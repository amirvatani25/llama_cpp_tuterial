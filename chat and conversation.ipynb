{
 "cells": [
  {
   "cell_type": "code",
   "execution_count": 1,
   "id": "initial_id",
   "metadata": {
    "collapsed": true,
    "ExecuteTime": {
     "end_time": "2024-06-08T06:08:30.635240665Z",
     "start_time": "2024-06-08T06:08:30.012643578Z"
    }
   },
   "outputs": [],
   "source": [
    "import os\n",
    "from llama_cpp import Llama\n",
    "from llama_cpp.llama_types import *\n",
    "\n",
    "model: Llama = Llama(\n",
    "model_path =\"./models/llama-2-13b-chat.Q4_K_M.gguf\" ,verbose=False, temperature = 0  \n",
    ")"
   ]
  },
  {
   "cell_type": "code",
   "execution_count": 3,
   "outputs": [
    {
     "name": "stdout",
     "output_type": "stream",
     "text": [
      "{\n",
      "    \"id\": \"chatcmpl-c70d8c41-1498-4360-9450-84ca4c59902d\",\n",
      "    \"object\": \"chat.completion\",\n",
      "    \"created\": 1717827376,\n",
      "    \"model\": \"./models/llama-2-13b-chat.Q4_K_M.gguf\",\n",
      "    \"choices\": [\n",
      "        {\n",
      "            \"index\": 0,\n",
      "            \"message\": {\n",
      "                \"role\": \"assistant\",\n",
      "                \"content\": \"  As an astronomer, I can tell you that there are eight planets in our solar system, and the fifth planet from the Sun is Earth.\"\n",
      "            },\n",
      "            \"logprobs\": null,\n",
      "            \"finish_reason\": \"stop\"\n",
      "        }\n",
      "    ],\n",
      "    \"usage\": {\n",
      "        \"prompt_tokens\": 50,\n",
      "        \"completion_tokens\": 31,\n",
      "        \"total_tokens\": 81\n",
      "    }\n",
      "}\n"
     ]
    }
   ],
   "source": [
    "import json\n",
    "\n",
    "messages = []\n",
    "\n",
    "\n",
    "message = ChatCompletionMessage()\n",
    "message[\"role\"] = \"system\"\n",
    "message[\"content\"] = (\n",
    "    'you are an astronomer, answer each question which is given to you as factually as possible.'\n",
    ")\n",
    "messages.append(message)\n",
    "\n",
    "message = ChatCompletionMessage()\n",
    "message[\"role\"] = \"user\"\n",
    "message[\"content\"] = \"what is the fifth planet in the solar system?\"\n",
    "messages.append(message)\n",
    "\n",
    "result = model.create_chat_completion(messages=messages)\n",
    "print(json.dumps(result, indent=4))"
   ],
   "metadata": {
    "collapsed": false,
    "ExecuteTime": {
     "end_time": "2024-06-08T06:16:25.687865098Z",
     "start_time": "2024-06-08T06:16:16.940240684Z"
    }
   },
   "id": "251fa088fe5aa38c"
  },
  {
   "cell_type": "code",
   "execution_count": 4,
   "outputs": [
    {
     "name": "stdout",
     "output_type": "stream",
     "text": [
      "<s>[INST] <<SYS>>\n",
      "you are an astronomer, answer each question which is given to you as factually as possible.\n",
      "<</SYS>> what is the fifth planet in the solar system? [/INST]\n"
     ]
    }
   ],
   "source": [
    "model.chat_format\n",
    "\n",
    "from llama_cpp.llama_chat_format import format_llama2, ChatFormatterResponse\n",
    "\n",
    "response: ChatFormatterResponse = format_llama2(messages=messages)\n",
    "print(response.prompt)"
   ],
   "metadata": {
    "collapsed": false,
    "ExecuteTime": {
     "end_time": "2024-06-08T06:19:56.613195977Z",
     "start_time": "2024-06-08T06:19:56.569841851Z"
    }
   },
   "id": "36704b87c0bfd40c"
  },
  {
   "cell_type": "code",
   "execution_count": 6,
   "outputs": [
    {
     "name": "stdout",
     "output_type": "stream",
     "text": [
      "{\n",
      "    \"role\": \"assistant\",\n",
      "    \"content\": \"  You're absolutely right! My apologies for the mistake. Earth is indeed the third planet in our solar system, not the fifth. Thank you for pointing out my error.\"\n",
      "}\n"
     ]
    }
   ],
   "source": [
    "messages = []\n",
    "\n",
    "message = ChatCompletionMessage()\n",
    "message[\"role\"] = \"system\"\n",
    "message[\"content\"] = (\"you are an astronomer, answer each question which is given to you as factually as possible\"\n",
    "    \n",
    ")\n",
    "messages.append(message)\n",
    "\n",
    "message = ChatCompletionMessage()\n",
    "message[\"role\"] = 'user'\n",
    "message[\"content\"] = \"what is the fifth planet in the solar system?\"\n",
    "messages.append(message)\n",
    "\n",
    "result = model.create_chat_completion(messages=messages)\n",
    "\n",
    "messages.append(result[\"choices\"][0][\"message\"])\n",
    "\n",
    "message= ChatCompletionMessage()\n",
    "message[\"role\"] = \"user\"\n",
    "message[\"content\"] = (\n",
    "    'are you sure that is correct? i thought earth was the third planet in our solar system.'\n",
    ")\n",
    "messages.append(message)\n",
    "result = model.create_chat_completion(messages=messages)['choices'][0][\"message\"]\n",
    "print(json.dumps(result,indent=4))\n"
   ],
   "metadata": {
    "collapsed": false,
    "ExecuteTime": {
     "end_time": "2024-06-08T06:28:51.984761225Z",
     "start_time": "2024-06-08T06:28:29.457092927Z"
    }
   },
   "id": "a20927d4569d8430"
  },
  {
   "cell_type": "code",
   "execution_count": null,
   "outputs": [],
   "source": [],
   "metadata": {
    "collapsed": false
   },
   "id": "1b00abffab033210"
  }
 ],
 "metadata": {
  "kernelspec": {
   "display_name": "Python 3",
   "language": "python",
   "name": "python3"
  },
  "language_info": {
   "codemirror_mode": {
    "name": "ipython",
    "version": 2
   },
   "file_extension": ".py",
   "mimetype": "text/x-python",
   "name": "python",
   "nbconvert_exporter": "python",
   "pygments_lexer": "ipython2",
   "version": "2.7.6"
  }
 },
 "nbformat": 4,
 "nbformat_minor": 5
}

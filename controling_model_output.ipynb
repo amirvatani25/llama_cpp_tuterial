{
 "cells": [
  {
   "cell_type": "code",
   "execution_count": 1,
   "id": "initial_id",
   "metadata": {
    "collapsed": true,
    "ExecuteTime": {
     "end_time": "2024-06-08T07:07:08.002853195Z",
     "start_time": "2024-06-08T07:07:06.816525849Z"
    }
   },
   "outputs": [],
   "source": [
    "import os\n",
    "from llama_cpp import Llama\n",
    "\n",
    "model: Llama = Llama(\n",
    "    model_path=\"./models/llama-2-13b-chat.Q4_K_M.gguf\", verbose=False\n",
    ")"
   ]
  },
  {
   "cell_type": "code",
   "execution_count": 6,
   "outputs": [
    {
     "name": "stdout",
     "output_type": "stream",
     "text": [
      "\n",
      "This is a classic Zen koan, and the answer is \"there is no sound"
     ]
    }
   ],
   "source": [
    "token_count: int = 0\n",
    "for result in model.create_completion(\n",
    "    prompt=\"what is the sound of one hand clapping?\",\n",
    "    max_tokens=512,\n",
    "    stream=True,\n",
    "    stop=[\".\",\"?\",\"!\"],\n",
    "):\n",
    "    if token_count % 50 == 0 :\n",
    "        print(\"\")\n",
    "        \n",
    "    token_count = token_count +1 \n",
    "    print(result[\"choices\"][0][\"text\"],end=\"\")"
   ],
   "metadata": {
    "collapsed": false,
    "ExecuteTime": {
     "end_time": "2024-06-08T07:12:10.037492975Z",
     "start_time": "2024-06-08T07:12:03.907854828Z"
    }
   },
   "id": "57f69895cde0d94d"
  },
  {
   "cell_type": "code",
   "execution_count": null,
   "outputs": [],
   "source": [],
   "metadata": {
    "collapsed": false
   },
   "id": "8846a5a58930dc2b"
  }
 ],
 "metadata": {
  "kernelspec": {
   "display_name": "Python 3",
   "language": "python",
   "name": "python3"
  },
  "language_info": {
   "codemirror_mode": {
    "name": "ipython",
    "version": 2
   },
   "file_extension": ".py",
   "mimetype": "text/x-python",
   "name": "python",
   "nbconvert_exporter": "python",
   "pygments_lexer": "ipython2",
   "version": "2.7.6"
  }
 },
 "nbformat": 4,
 "nbformat_minor": 5
}

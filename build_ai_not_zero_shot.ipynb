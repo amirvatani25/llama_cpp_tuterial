{
 "cells": [
  {
   "cell_type": "code",
   "execution_count": 1,
   "id": "initial_id",
   "metadata": {
    "collapsed": true,
    "ExecuteTime": {
     "end_time": "2024-06-08T06:34:32.552684412Z",
     "start_time": "2024-06-08T06:34:27.992566358Z"
    }
   },
   "outputs": [],
   "source": [
    "import os\n",
    "from llama_cpp import Llama\n",
    "from llama_cpp.llama_types import *\n",
    "\n",
    "model: Llama = Llama(\n",
    "    model_path=\"./models/llama-2-13b-chat.Q4_K_M.gguf\", verbose=False,n_ctx=2048\n",
    ")\n"
   ]
  },
  {
   "cell_type": "code",
   "execution_count": 4,
   "outputs": [
    {
     "name": "stdout",
     "output_type": "stream",
     "text": [
      " how to extract a value from nested JSON objects\n",
      "I am trying to extract a value from a nested JSON object using Python 3. I have the following JSON structure:\n",
      "\\begin{code}\n",
      "{\n",
      "    \"name\": \"John\",\n",
      "    \"age\": 30,\n",
      "    \"address\": {\n",
      "        \"street\": \"123 Main St\",\n",
      "        \"city\": \"Anytown\",\n",
      "        \"state\": \"CA\",\n",
      "        \"zip\": \"12345\"\n",
      "    }\n",
      "}\n",
      "\\end{code}\n",
      "I want to extract the value of the \"street\" key in the \"address\" object. I have tried using the `lambda` function like this:\n",
      "\\begin{code}\n",
      "json_data = \"\"\"\n",
      "{\n",
      "    \"name\": \"John\",\n",
      "    \"age\": 30,\n",
      "    \"address\": {\n",
      "        \"street\": \"123 Main St\",\n",
      "        \"city\": \"Anytown\",\n",
      "        \"state\": \"CA\",\n",
      "        \"zip\": \"12345\"\n",
      "    }\n",
      "}\n",
      "\"\"\"\n",
      "street = json_data.find(\"address\")[\"street\"]\n",
      "print(street)\n",
      "\\end{code}\n",
      "However, this returns `None`. I am new to Python and am not sure why this is happening. Can someone please explain how to extract the value of the \"street\" key in the \"address\" object using Python 3?\n",
      "Thank you!\n",
      "Answer: You're close, but you need to use the `.` notation to access the `address` object and then the square bracket notation to access the `street` key within it. Here's the corrected code:\n",
      "\\begin{code}\n",
      "json_data = \"\"\"\n",
      "{\n",
      "    \"name\": \"John\",\n",
      "    \"age\": 30,\n",
      "    \"address\": {\n",
      "        \"street\": \"123 Main St\",\n",
      "        \"city\": \"Anytown\",\n",
      "        \"state\": \"CA\",\n",
      "        \"zip\": \"12345\"\n",
      "    }\n",
      "}\n",
      "\"\"\"\n",
      "street = json_data[\"address\"][\"street\"]\n",
      "print(street)\n",
      "\\end{code}\n",
      "This will output `123 Main St`.\n",
      "Also, you can use the `json` module in python to parse the json data and access the values like this:\n",
      "```\n",
      "import json\n",
      "json_data = \"\"\"\n",
      "{\n",
      "    \"name\": \"John\",\n",
      "    \"age\": 30,\n",
      "    \"address\": {\n",
      "        \"street\": \"123 Main St\",\n",
      "        \"city\": \"Anytown\",\n",
      "        \"state\": \"CA\",\n",
      "        \"zip\": \"12345\"\n",
      "    }\n",
      "}\n",
      "\"\"\"\n",
      "data = json.loads(json_data)\n",
      "street = data[\"address\"][\"street\"]\n",
      "print(street)\n",
      "```\n",
      "This will also output `123 Main St`"
     ]
    }
   ],
   "source": [
    "prompt = \"python 3 lambda question in JSON:\"\n",
    "\n",
    "\n",
    "\n",
    "for response in model.create_completion(prompt, max_tokens=2048, stream=True):\n",
    "    result = response[\"choices\"][0]\n",
    "    print(result[\"text\"],end=\"\")"
   ],
   "metadata": {
    "collapsed": false,
    "ExecuteTime": {
     "end_time": "2024-06-08T06:42:00.195255009Z",
     "start_time": "2024-06-08T06:38:41.335102860Z"
    }
   },
   "id": "c208675c4fcfd7c0"
  },
  {
   "cell_type": "code",
   "execution_count": 6,
   "outputs": [
    {
     "name": "stdout",
     "output_type": "stream",
     "text": [
      "{\"question\": \"the assert statement is used for:\", \"correct_answer\": \"testing expressions for truthiness\", \"incorrect_answer\": \"defining functions\"}\n",
      "python 3 range question in JSON:\n",
      "{\"question\": \"what does the 'range' function do?\", \"correct_answer\": \"generate a sequence of numbers\", \"incorrect_answer\": \"perform actions in parallel\"}\n",
      "python 3 list comprehension question in JSON:\n",
      "{\"question\": \"what is the purpose of a list comprehension?\", \"correct_answer\": \"to create a new list from an existing one by applying a function or operation to each element\", \"incorrect_answer\": \"to iterate over a list and perform actions\"}\n",
      "python 3 set question in JSON:\n",
      "{\"question\": \"what is the difference between a list and a set?\", \"correct_answer\": \"a list is ordered and has duplicates, while a set is unordered and does not have duplicates\", \"incorrect_answer\": \"a list is unordered and has duplicates, while a set is ordered and does not have duplicates\"}\n",
      "python 3 dictionary question in JSON:\n",
      "{\"question\": \"what is the purpose of a dictionary?\", \"correct_answer\": \"to store data as key-value pairs\", \"incorrect_answer\": \"to iterate over a list and perform actions\"}\n",
      "python 3 lambda function in JSON:\n",
      "{\"question\": \"how do you create a lambda function?\", \"correct_answer\": \"by defining a function without a name using the 'lambda' keyword\", \"incorrect_answer\": \"by defining a function with a name\"}"
     ]
    }
   ],
   "source": [
    "prompt = \"\"\"python 3 lambda question in JSON:\n",
    "{\"question\":\"the lambda keyword in python is:\",\"correct_answer\":\"for declaring anonymous functions\",\"incorrect_answer\":\"for matchmatings\"}\n",
    "\n",
    "python 3 def question in JSON:\n",
    "{\"question:\":\"what does the 'def' keyword do?\", \"correct_answer\":\"define a function\",\"incorrect_answer\":\"declare variables\"}\n",
    "\n",
    "python 3 assert question in JSON:\n",
    "\"\"\"\n",
    "\n",
    "for response in model.create_completion(prompt, max_tokens=2048, stream=True):\n",
    "    result= response[\"choices\"][0]\n",
    "    print(result[\"text\"],end=\"\")"
   ],
   "metadata": {
    "collapsed": false,
    "ExecuteTime": {
     "end_time": "2024-06-08T06:49:22.604494105Z",
     "start_time": "2024-06-08T06:47:35.175637675Z"
    }
   },
   "id": "7bbe590177d38731"
  },
  {
   "cell_type": "code",
   "execution_count": 7,
   "outputs": [
    {
     "name": "stdout",
     "output_type": "stream",
     "text": [
      "{\"question\": \"what is the purpose of the 'assert' statement?\" ,\"correct_answer\"=\"to test if a condition is true\", \"incorrect_answer\"=\"to declare multiple variables at once\"}\n",
      "python 3 with question in JSON:\n",
      "{\"question\": \"how does the 'with' statement work?\" , \"correct_answer\"=\"it allows you to use resources that are not available in a function\", \"incorrect_answer\"=\" it creates a new scope for the variable\"}\n",
      "python 3 import question in JSON:\n",
      "{\"question\": \"what is the purpose of the 'import' statement?\" ,\"correct_answer\"=\"to bring in other modules or functions into your program\", \"incorrect_answer\"=\"to define classes and objects\"}"
     ]
    }
   ],
   "source": [
    "prompt = \"\"\"Topics: lambda, def , assert , with , import .\n",
    "\n",
    "python 3 lambda question in JSON:\n",
    "{\"question\":\"the lambda keyword in python is:\",\"correct_answer\":\"for declaring anonymous functions\",\"incorrect_answer\":\"for matchmatings\"}\n",
    "\n",
    "python 3 def question in JSON:\n",
    "{\"question:\":\"what does the 'def' keyword do?\", \"correct_answer\":\"define a function\",\"incorrect_answer\":\"declare variables\"}\n",
    "\n",
    "python 3 assert question in JSON:\n",
    "\"\"\"\n",
    "\n",
    "for response in model.create_completion(prompt, max_tokens=2048, stream=True):\n",
    "    result= response[\"choices\"][0]\n",
    "    print(result[\"text\"],end=\"\")"
   ],
   "metadata": {
    "collapsed": false,
    "ExecuteTime": {
     "end_time": "2024-06-08T06:53:05.939029064Z",
     "start_time": "2024-06-08T06:52:00.772552138Z"
    }
   },
   "id": "aca9af810bb8cb37"
  },
  {
   "cell_type": "code",
   "execution_count": 10,
   "outputs": [
    {
     "name": "stdout",
     "output_type": "stream",
     "text": [
      "\"question\": \"the assert statement in python is used for\",\n",
      "\"correct_answer\":\"testing purposes only\",\n",
      "\"incorrect_answer\":\"executing code\"\n",
      "},\n",
      "{\n",
      "\"question\": \"what does the 'with' keyword do?\",\n",
      "\"correct_answer\":\"allows you to use resources such as files and sockets\",\n",
      "\"incorrect_answer\":\"declares a function\"\n",
      "}\n",
      "{\n",
      "\"question\": \"what is the purpose of the 'import' statement in python?\",\n",
      "\"correct_answer\":\"to import external modules and classes\",\n",
      "\"incorrect_answer\":\"to define local variables\"\n",
      "}\n",
      "]} "
     ]
    }
   ],
   "source": [
    "prompt = \"\"\"\n",
    "{\"python_3_Topics\"= [\"lambda\", \"def\",\"assert\",\"with\" ,\"import\"], qestions=[\n",
    "{\n",
    "\"question\":\"the lambda keyword in python is:\",\n",
    "\"correct_answer\":\"for declaring anonymous functions\",\n",
    "\"incorrect_answer\":\"for matchmatings\"\n",
    "},\n",
    "{\n",
    "\"question:\":\"what does the 'def' keyword do?\",\n",
    "\"correct_answer\":\"define a function\",\n",
    "\"incorrect_answer\":\"declare variables\"\n",
    "},\n",
    "{\n",
    "\"\"\"\n",
    "\n",
    "for response in model.create_completion(prompt, max_tokens=2048, stream=True):\n",
    "    result= response[\"choices\"][0]\n",
    "    print(result[\"text\"],end=\"\")"
   ],
   "metadata": {
    "collapsed": false,
    "ExecuteTime": {
     "end_time": "2024-06-08T07:04:59.392276378Z",
     "start_time": "2024-06-08T07:04:17.913213385Z"
    }
   },
   "id": "5eeef639d8f6c378"
  },
  {
   "cell_type": "code",
   "execution_count": null,
   "outputs": [],
   "source": [],
   "metadata": {
    "collapsed": false
   },
   "id": "eed6a6602f97d031"
  }
 ],
 "metadata": {
  "kernelspec": {
   "display_name": "Python 3",
   "language": "python",
   "name": "python3"
  },
  "language_info": {
   "codemirror_mode": {
    "name": "ipython",
    "version": 2
   },
   "file_extension": ".py",
   "mimetype": "text/x-python",
   "name": "python",
   "nbconvert_exporter": "python",
   "pygments_lexer": "ipython2",
   "version": "2.7.6"
  }
 },
 "nbformat": 4,
 "nbformat_minor": 5
}

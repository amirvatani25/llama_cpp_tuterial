{
 "cells": [
  {
   "cell_type": "code",
   "execution_count": 1,
   "id": "initial_id",
   "metadata": {
    "collapsed": true,
    "ExecuteTime": {
     "end_time": "2024-06-08T04:50:56.899431206Z",
     "start_time": "2024-06-08T04:50:42.750275370Z"
    }
   },
   "outputs": [],
   "source": [
    "import os\n",
    "from llama_cpp import Llama\n",
    "from llama_cpp.llama_types import *\n",
    "\n",
    "model: Llama = Llama(\n",
    "    model_path=\"./models/llama-2-13b-chat.Q4_K_M.gguf\", verbose=False , logits_all=True\n",
    ")\n",
    "\n"
   ]
  },
  {
   "cell_type": "code",
   "execution_count": 11,
   "outputs": [
    {
     "name": "stdout",
     "output_type": "stream",
     "text": [
      "10 hours ahead of new york.\n",
      "\n",
      "Answer:\n",
      "The capital\n",
      "['1', '0', ' hours', ' ahead', ' of', ' new', ' y', 'ork', '.', '\\n', '\\n', 'Answer', ':', '\\n', 'The', ' capital']\n",
      "[-1.7339085, -1.7715492, -2.0203178, -0.07714495, -0.0059977546, -1.0623943, -0.011752535, -5.9722068e-05, -0.94063383, -0.58168375, -0.57095987, -1.8919802, -0.027183345, -0.32333067, -1.6834793, -0.046499588]\n",
      "[23, 24, 25, 31, 37, 40, 44, 46, 49, 50, 51, 52, 58, 59, 60, 63]\n"
     ]
    }
   ],
   "source": [
    "result: Completion = model.create_completion(\n",
    "    prompt=\"the capital of iran is \", logprobs=3 , max_tokens=16 , temperature=0\n",
    ")\n",
    "\n",
    "item = result[\"choices\"][0]\n",
    "\n",
    "print(item[\"text\"])\n",
    "\n",
    "details: CompletionLogprobs = item[\"logprobs\"]\n",
    "\n",
    "print(details[\"tokens\"])\n",
    "print(\n",
    "    details[\"token_logprobs\"]\n",
    ")\n",
    "print(details[\"text_offset\"])"
   ],
   "metadata": {
    "collapsed": false,
    "ExecuteTime": {
     "end_time": "2024-06-08T05:09:05.390667621Z",
     "start_time": "2024-06-08T05:09:00.664304057Z"
    }
   },
   "id": "90c18af6cffa3d69"
  },
  {
   "cell_type": "code",
   "execution_count": 3,
   "outputs": [
    {
     "name": "stdout",
     "output_type": "stream",
     "text": [
      "{'1': -1.7339085, '2': -1.9612759, '3': -2.358611}\n",
      "{'0': -1.7715492, '3': -2.2836819, '2': -2.3341007}\n",
      "{'0': -1.4360416, ' hours': -2.0203178, '.': -2.744046}\n",
      "{' ahead': -0.07714495, ' and': -3.0758412, ' behind': -4.3944764}\n",
      "{' of': -0.0059977546, '.': -6.392707, ' from': -6.93299}\n",
      "{' new': -1.0623943, ' the': -2.4863358, ' eastern': -2.6014538}\n",
      "{' y': -0.011752535, ' York': -4.9486346, ' or': -6.574281}\n",
      "{'ork': -5.9722068e-05, 'or': -11.102605, 'awk': -11.301934}\n",
      "{'.': -0.94063383, ' city': -1.0080833, ' time': -2.1182728}\n",
      "{'\\n': -0.58168375, ' if': -2.7899747, '': -3.1596131}\n",
      "{'\\n': -0.57095987, 'I': -3.2248228, 'The': -3.2440393}\n",
      "{'Answer': -1.8919802, 'I': -2.783598, 'How': -2.9448433}\n",
      "{':': -0.027183345, ' by': -4.0399017, 'ed': -5.8590574}\n",
      "{'\\n': -0.32333067, ' The': -2.427634, ' That': -2.4998538}\n",
      "{'\\n': -0.26629826, 'The': -1.6834793, 'Yes': -4.181944}\n",
      "{' capital': -0.046499588, ' correct': -3.9488719, ' time': -3.96781}\n"
     ]
    }
   ],
   "source": [
    "#for token_choice in details[\"top_logprobs\"]:\n",
    " #   print(token_choice)"
   ],
   "metadata": {
    "collapsed": false,
    "ExecuteTime": {
     "end_time": "2024-06-08T04:56:25.349345462Z",
     "start_time": "2024-06-08T04:56:25.306233145Z"
    }
   },
   "id": "52fe51d334e16a4f"
  },
  {
   "cell_type": "code",
   "execution_count": 16,
   "outputs": [
    {
     "name": "stdout",
     "output_type": "stream",
     "text": [
      "435 miles (700 km) southwest of tehran\n",
      "['4', '3', '5', ' miles', ' (', '7', '0', '0', ' km', ')', ' south', 'west', ' of', ' te', 'h', 'ran']\n",
      "\n",
      "{'1': -1.7339085, '2': -1.9612759, '3': -2.358611, '4': -2.5938082}\n",
      "{'0': -1.6530323, '3': -1.7418709, ',': -2.333023}\n",
      "{'.': -1.7889061, '0': -2.383295, ' degrees': -2.813734, '5': -3.1631737}\n",
      "{' miles': -1.0754565, '0': -2.3031225, '5': -2.8496046}\n",
      "{' (': -0.84293383, ' from': -1.7610209, ' south': -2.2826388}\n",
      "{'7': -0.04347712, ' ': -3.6385698, '6': -5.042981}\n",
      "{'0': -0.003702335, '9': -7.1780214, '1': -7.652728}\n",
      "{'0': -0.0062535563, '5': -6.22294, '2': -6.634044}\n",
      "{' km': -0.42058277, ' kilom': -1.162549, 'km': -4.301297}\n",
      "{')': -0.016444625, ').': -4.4410186, '.)': -6.760366}\n",
      "{' south': -0.3207286, ' sout': -2.1546118, ' from': -2.8847468}\n",
      "{' of': -0.11842232, 'west': -2.2314289, '-': -6.640067}\n",
      "{' of': -0.0028148573, '.': -6.95491, ' from': -7.84808}\n",
      "{' te': -0.1629953, ' the': -2.1106882, ' Te': -4.6825933}\n",
      "{'h': -0.0053743883, 'her': -5.2930255, 'hr': -8.19593}\n",
      "{'ran': -4.8517006e-05, 'ra': -10.814009, 'rane': -11.680924}\n"
     ]
    }
   ],
   "source": [
    "result: Completion = model.create_completion(\n",
    "    prompt=\"the capital of iran is \", logprobs=3 , max_tokens=16 , temperature=0.7\n",
    ")\n",
    "\n",
    "item = result[\"choices\"][0]\n",
    "\n",
    "print(item[\"text\"])\n",
    "\n",
    "details: CompletionLogprobs = item[\"logprobs\"]\n",
    "\n",
    "print(details[\"tokens\"])\n",
    "print()\n",
    "\n",
    "for token_choice in details[\"top_logprobs\"]:\n",
    "    print(token_choice)"
   ],
   "metadata": {
    "collapsed": false,
    "ExecuteTime": {
     "end_time": "2024-06-08T05:19:29.553365313Z",
     "start_time": "2024-06-08T05:19:24.802772320Z"
    }
   },
   "id": "7c97376337bc8e05"
  },
  {
   "cell_type": "code",
   "execution_count": 22,
   "outputs": [
    {
     "name": "stdout",
     "output_type": "stream",
     "text": [
      "10 hours ahead of eastern standard time.\n",
      "Iran is a large country\n",
      "['1', '0', ' hours', ' ahead', ' of', ' eastern', ' standard', ' time', '.', '\\n', 'I', 'ran', ' is', ' a', ' large', ' country']\n",
      "\n",
      "{'1': -1.7339085, '2': -1.9612759, '3': -2.358611}\n",
      "{'0': -1.7715492, '3': -2.2836819, '2': -2.3341007}\n",
      "{'0': -1.4360416, ' hours': -2.0203178, '.': -2.744046}\n",
      "{' ahead': -0.07714495, ' and': -3.0758412, ' behind': -4.3944764}\n",
      "{' of': -0.0059977546, '.': -6.392707, ' from': -6.93299}\n",
      "{' new': -1.0623943, ' the': -2.4863358, ' eastern': -2.6014538}\n",
      "{' standard': -0.016836448, ' time': -4.291289, ' day': -6.1569963}\n",
      "{' time': -0.00072679325, '.': -8.733718, '\\n': -9.374734}\n",
      "{'.': -0.5344551, ' and': -2.1462715, ' in': -2.3110359}\n",
      "{'\\n': -1.1032145, ' The': -2.9444983, ' This': -3.5157921}\n",
      "{'\\n': -0.8450933, 'I': -2.7285857, 'The': -2.7666936}\n",
      "{'ran': -0.16718537, ' am': -4.184878, ' hope': -4.235289}\n",
      "{' is': -0.74450153, ',': -2.1298108, \"'\": -2.5025249}\n",
      "{' a': -0.996362, ' located': -1.1500151, ' ': -1.9007962}\n",
      "{' country': -0.586439, ' large': -1.5272673, ' vast': -1.7294835}\n",
      "{' country': -0.037348602, ' and': -3.3622653, ',': -6.8471794}\n"
     ]
    }
   ],
   "source": [
    "result: Completion = model.create_completion(\n",
    "    prompt=\"the capital of iran is \", logprobs=3 , max_tokens=16 , temperature=1.0 ,top_k=2\n",
    ")\n",
    "\n",
    "item = result[\"choices\"][0]\n",
    "\n",
    "print(item[\"text\"])\n",
    "\n",
    "details: CompletionLogprobs = item[\"logprobs\"]\n",
    "\n",
    "print(details[\"tokens\"])\n",
    "print()\n",
    "\n",
    "for token_choice1 in details[\"top_logprobs\"]:\n",
    "    print(token_choice1)"
   ],
   "metadata": {
    "collapsed": false,
    "ExecuteTime": {
     "end_time": "2024-06-08T05:23:22.391147850Z",
     "start_time": "2024-06-08T05:23:17.699288418Z"
    }
   },
   "id": "44b4e1f0e543fbfc"
  },
  {
   "cell_type": "code",
   "execution_count": 25,
   "outputs": [
    {
     "name": "stdout",
     "output_type": "stream",
     "text": [
      "10 hours ahead of new york.\n",
      "\n",
      "Answer:\n",
      "The capital\n",
      "['1', '0', ' hours', ' ahead', ' of', ' new', ' y', 'ork', '.', '\\n', '\\n', 'Answer', ':', '\\n', 'The', ' capital']\n",
      "\n",
      "{'1': -1.7339085, '2': -1.9612759, '3': -2.358611}\n",
      "{'0': -1.7715492, '3': -2.2836819, '2': -2.3341007}\n",
      "{'0': -1.4360416, ' hours': -2.0203178, '.': -2.744046}\n",
      "{' ahead': -0.07714495, ' and': -3.0758412, ' behind': -4.3944764}\n",
      "{' of': -0.0059977546, '.': -6.392707, ' from': -6.93299}\n",
      "{' new': -1.0623943, ' the': -2.4863358, ' eastern': -2.6014538}\n",
      "{' y': -0.011752535, ' York': -4.9486346, ' or': -6.574281}\n",
      "{'ork': -5.9722068e-05, 'or': -11.102605, 'awk': -11.301934}\n",
      "{'.': -0.94063383, ' city': -1.0080833, ' time': -2.1182728}\n",
      "{'\\n': -0.58168375, ' if': -2.7899747, '': -3.1596131}\n",
      "{'\\n': -0.57095987, 'I': -3.2248228, 'The': -3.2440393}\n",
      "{'Answer': -1.8919802, 'I': -2.783598, 'How': -2.9448433}\n",
      "{':': -0.027183345, ' by': -4.0399017, 'ed': -5.8590574}\n",
      "{'\\n': -0.32333067, ' The': -2.427634, ' That': -2.4998538}\n",
      "{'\\n': -0.26629826, 'The': -1.6834793, 'Yes': -4.181944}\n",
      "{' capital': -0.046499588, ' correct': -3.9488719, ' time': -3.96781}\n"
     ]
    }
   ],
   "source": [
    "result: Completion = model.create_completion(\n",
    "    prompt=\"the capital of iran is \", logprobs=3 , max_tokens=16 , temperature=0.7 ,top_p=0.01\n",
    ")\n",
    "\n",
    "item = result[\"choices\"][0]\n",
    "\n",
    "print(item[\"text\"])\n",
    "\n",
    "details: CompletionLogprobs = item[\"logprobs\"]\n",
    "\n",
    "print(details[\"tokens\"])\n",
    "print()\n",
    "\n",
    "for token_choice2 in details[\"top_logprobs\"]:\n",
    "    print(token_choice2)"
   ],
   "metadata": {
    "collapsed": false,
    "ExecuteTime": {
     "end_time": "2024-06-08T05:33:05.675543482Z",
     "start_time": "2024-06-08T05:33:00.857225098Z"
    }
   },
   "id": "147be30043654703"
  },
  {
   "cell_type": "code",
   "execution_count": null,
   "outputs": [],
   "source": [],
   "metadata": {
    "collapsed": false
   },
   "id": "4faa99f4d0e87304"
  }
 ],
 "metadata": {
  "kernelspec": {
   "display_name": "Python 3",
   "language": "python",
   "name": "python3"
  },
  "language_info": {
   "codemirror_mode": {
    "name": "ipython",
    "version": 2
   },
   "file_extension": ".py",
   "mimetype": "text/x-python",
   "name": "python",
   "nbconvert_exporter": "python",
   "pygments_lexer": "ipython2",
   "version": "2.7.6"
  }
 },
 "nbformat": 4,
 "nbformat_minor": 5
}
